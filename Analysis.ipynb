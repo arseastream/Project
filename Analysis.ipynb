{
 "cells": [
  {
   "cell_type": "markdown",
   "metadata": {},
   "source": [
    "**Setup**"
   ]
  },
  {
   "cell_type": "code",
   "execution_count": null,
   "metadata": {},
   "outputs": [],
   "source": [
    "# Import packages\n",
    "import pandas as pd\n",
    "import numpy as np\n",
    "from xgboost import XGBClassifier\n",
    "import matplotlib.pyplot as plt\n",
    "from sklearn.model_selection import train_test_split\n",
    "import matplotlib.dates as mdates\n",
    "pd.set_option('display.max_columns', None)\n",
    "pd.set_option('display.max_rows', None)\n",
    "\n",
    "data_folder_path = '/Users/andrewseastream/Documents/Documents/Ellington/Data/'"
   ]
  },
  {
   "cell_type": "markdown",
   "metadata": {},
   "source": [
    "**Create Dataset**"
   ]
  },
  {
   "cell_type": "code",
   "execution_count": null,
   "metadata": {},
   "outputs": [],
   "source": [
    "# Read SBA 504 data\n",
    "file_name = 'foia-504-fy2010-present-asof-230930.csv'\n",
    "sbadata = pd.read_csv(data_folder_path + file_name)\n",
    "\n",
    "# Create a loan id\n",
    "sbadata['LoanID'] = range(1, len(sbadata) + 1)\n",
    "\n",
    "# Remove if never funded\n",
    "sbadata = sbadata.query(\"LoanStatus not in ['CANCLD', 'NOT FUNDED']\")\n",
    "sbadata = sbadata.query(\"LoanStatus.notna()\")\n",
    "\n",
    "# Convert dates\n",
    "sbadata['AsOfDate'] = pd.to_datetime(sbadata['AsOfDate'], format='%Y%m%d')\n",
    "sbadata['AsOfDate'] = sbadata['AsOfDate'].dt.to_period('M').dt.to_timestamp()\n",
    "sbadata['ApprovalDate'] = pd.to_datetime(sbadata['ApprovalDate'], format='%m/%d/%Y')\n",
    "sbadata['ApprovalDate'] = sbadata['ApprovalDate'].dt.to_period('M').dt.to_timestamp()\n",
    "sbadata['PaidInFullDate'] = pd.to_datetime(sbadata['PaidInFullDate'], format='%m/%d/%Y')\n",
    "sbadata['PaidInFullDate'] = sbadata['PaidInFullDate'].dt.to_period('M').dt.to_timestamp()\n",
    "sbadata['ChargeOffDate'] = pd.to_datetime(sbadata['ChargeOffDate'], format='%m/%d/%Y')\n",
    "sbadata['ChargeOffDate'] = sbadata['ChargeOffDate'].dt.to_period('M').dt.to_timestamp()\n",
    "sbadata['LastDate'] = np.where(sbadata['ChargeOffDate'].notna(), sbadata['ChargeOffDate'],\n",
    "                               np.where(sbadata['PaidInFullDate'].notna(), sbadata['PaidInFullDate'],\n",
    "                                        sbadata['AsOfDate']))\n",
    "sbadata['MaturityDate'] = sbadata.apply(lambda row: row['ApprovalDate'] + pd.DateOffset(months=row['TermInMonths']), axis=1)\n",
    "\n",
    "# Create dynamic data\n",
    "createdynamicdata = False\n",
    "if createdynamicdata:\n",
    "    def generate_month_range(start, end):\n",
    "        return pd.date_range(start=start, end=end, freq='MS').tolist()\n",
    "\n",
    "    sbadata['Months'] = sbadata.apply(lambda row: generate_month_range(row['ApprovalDate'], row['LastDate']), axis=1)\n",
    "    sbadata_dyn = sbadata.explode('Months')\n",
    "    sbadata_dyn = sbadata_dyn.rename(columns={'Months': 'Date'}).reset_index(drop=True)\n",
    "    sbadata.drop(columns='Months', inplace=True)\n",
    "    sbadata_dyn = sbadata_dyn[['Date'] + ['LoanID'] + [col for col in sbadata_dyn.columns if col not in ['Date', 'LoanID']]]\n",
    "    sbadata_dyn.to_pickle(data_folder_path + 'sbadata_dyn_initial.pkl')\n",
    "else:\n",
    "    sbadata_dyn = pd.read_pickle(data_folder_path + 'sbadata_dyn_initial.pkl')\n",
    "\n",
    "# Classify prepayments and charge offs\n",
    "sbadata_dyn['Prepayment'] = np.where((sbadata_dyn['Date'] == sbadata_dyn['PaidInFullDate']) &\n",
    "                                     (sbadata_dyn['Date'] < sbadata_dyn['MaturityDate']), 1, 0)\n",
    "sbadata_dyn['ChargeOff'] = np.where(sbadata_dyn['Date'] == sbadata_dyn['ChargeOffDate'], 1, 0)\n",
    "\n",
    "# Calculate extra columns\n",
    "sbadata_dyn['Loan Age'] = ((sbadata_dyn['Date'].dt.year - sbadata_dyn['ApprovalDate'].dt.year) * 12) + (sbadata_dyn['Date'].dt.month - sbadata_dyn['ApprovalDate'].dt.month)\n",
    "rates_df = pd.read_csv(data_folder_path + 'SBA 504 Historical Rates.csv')\n",
    "rates_df['Date'] = pd.to_datetime(rates_df['Date'])\n",
    "sbadata_dyn = sbadata_dyn.merge(rates_df, on='Date', how='left').rename(columns={'Rate': 'Obs Market Rate'})\n",
    "sbadata_dyn = sbadata_dyn.merge(rates_df.rename(columns={'Date':'ApprovalDate'}), on='ApprovalDate', how='left').rename(columns={'Rate': 'Orig Market Rate'})\n",
    "sbadata_dyn['Incentive'] = sbadata_dyn['Orig Market Rate'] - sbadata_dyn['Obs Market Rate']\n",
    "sbadata_dyn['Rounded Incentive'] = sbadata_dyn['Incentive'].round(decimals=1)\n",
    "\n",
    "# Save dataframe\n",
    "sbadata_dyn.to_pickle(data_folder_path + 'sbadata_dyn.pkl')\n",
    "\n",
    "##################################################"
   ]
  },
  {
   "cell_type": "markdown",
   "metadata": {},
   "source": [
    "**Create CPR Model**"
   ]
  },
  {
   "cell_type": "code",
   "execution_count": null,
   "metadata": {},
   "outputs": [],
   "source": [
    "# Download data\n",
    "sbadata_dyn = pd.read_pickle(data_folder_path + 'sbadata_dyn.pkl')\n",
    "sbadata_dyn['Date'] = pd.to_datetime(sbadata_dyn['Date'])\n",
    "sbadata_dyn['ApprovalDate'] = pd.to_datetime(sbadata_dyn['ApprovalDate'])"
   ]
  },
  {
   "cell_type": "code",
   "execution_count": null,
   "metadata": {},
   "outputs": [],
   "source": [
    "# Restrict by date\n",
    "train_data = sbadata_dyn[sbadata_dyn['Date'].dt.year < 2024]\n",
    "\n",
    "# Set training columns\n",
    "X = train_data[['Loan Age', 'GrossApproval', 'Incentive']]\n",
    "y = train_data['Prepayment']\n",
    "\n",
    "# Split the data into training and validation sets\n",
    "X_train, X_other, y_train, y_other = train_test_split(X, y, test_size=0.3, random_state=42)\n",
    "\n",
    "# Create and train the XGBClassifier on the training set\n",
    "model = XGBClassifier(max_depth=2)\n",
    "model.fit(X_train, y_train)\n",
    "\n",
    "# Predict probabilities for the entire dataset\n",
    "y_pred_entire = model.predict_proba(sbadata_dyn[['Loan Age', 'GrossApproval', 'Incentive']])\n",
    "\n",
    "# Extract the probabilities for the positive class\n",
    "prob_class_1_entire = y_pred_entire[:, 1]\n",
    "\n",
    "# Add these probabilities to the original DataFrame\n",
    "sbadata_dyn['Model Prepayment'] = prob_class_1_entire\n",
    "\n",
    "# Save\n",
    "sbadata_dyn.to_pickle(data_folder_path + 'sbadata_dyn.pkl')"
   ]
  },
  {
   "cell_type": "code",
   "execution_count": null,
   "metadata": {},
   "outputs": [],
   "source": [
    "# Save smaller file\n",
    "sbadata_dyn.sample(frac=0.25, random_state=42).to_pickle(data_folder_path + 'sbadata_dyn_small.pkl')"
   ]
  },
  {
   "cell_type": "markdown",
   "metadata": {},
   "source": [
    "**Model Validation Plot**"
   ]
  },
  {
   "cell_type": "code",
   "execution_count": null,
   "metadata": {},
   "outputs": [],
   "source": [
    "##### Plot by Variable #####\n",
    "\n",
    "variable = 'Date'\n",
    "\n",
    "# Group by variable and calculate the averages\n",
    "grouped_data = sbadata_dyn.groupby(variable).agg({'Prepayment': 'mean', 'Model Prepayment': 'mean'}).reset_index()\n",
    "\n",
    "# Convert 'Date' to datetime in grouped_data if it's not already\n",
    "if variable == 'Date':\n",
    "    grouped_data['Date'] = pd.to_datetime(grouped_data['Date'])\n",
    "\n",
    "# Plot the results\n",
    "plt.figure(figsize=(10, 6))\n",
    "\n",
    "# Plotting\n",
    "plt.plot(grouped_data['Date'], grouped_data['Prepayment'], label='Actual Prepayment', color='blue')\n",
    "plt.plot(grouped_data['Date'], grouped_data['Model Prepayment'], label='Predicted Probability of Prepayment', color='red')\n",
    "\n",
    "# Formatting the date axis\n",
    "# Using a less frequent locator and a simpler date format\n",
    "plt.gca().xaxis.set_major_formatter(mdates.DateFormatter('%Y-%m'))  # Format as Year-Month\n",
    "plt.gca().xaxis.set_major_locator(mdates.MonthLocator(interval=6))  # A label every three months\n",
    "plt.gca().xaxis.set_minor_locator(mdates.MonthLocator())  # Minor ticks for months\n",
    "\n",
    "plt.gcf().autofmt_xdate()  # Auto format the date labels\n",
    "\n",
    "plt.xlabel('Date')\n",
    "plt.ylabel('Average Prepayment / Probability')\n",
    "plt.title('Actual vs Predicted Probability of Prepayment by Date')\n",
    "plt.legend()\n",
    "plt.show()\n",
    "\n",
    "##################################################"
   ]
  }
 ],
 "metadata": {
  "kernelspec": {
   "display_name": ".venv",
   "language": "python",
   "name": "python3"
  },
  "language_info": {
   "codemirror_mode": {
    "name": "ipython",
    "version": 3
   },
   "file_extension": ".py",
   "mimetype": "text/x-python",
   "name": "python",
   "nbconvert_exporter": "python",
   "pygments_lexer": "ipython3",
   "version": "3.11.4"
  },
  "orig_nbformat": 4
 },
 "nbformat": 4,
 "nbformat_minor": 2
}
